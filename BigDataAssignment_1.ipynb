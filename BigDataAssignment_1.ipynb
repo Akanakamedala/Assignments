{
 "cells": [
  {
   "cell_type": "code",
   "execution_count": 12,
   "id": "e4e41828",
   "metadata": {},
   "outputs": [
    {
     "name": "stdout",
     "output_type": "stream",
     "text": [
      "Enter a string: searrrtttt\n",
      "1\n",
      "2\n",
      "3\n",
      "4\n",
      "2\n",
      "5\n",
      "3\n",
      "6\n",
      "7\n",
      "2\n",
      "8\n",
      "3\n",
      "9\n",
      "4\n",
      "sear3t4\n"
     ]
    }
   ],
   "source": [
    "def compress_string(s):\n",
    "    outputstr = \"\"\n",
    "    j = 1\n",
    "\n",
    "    for i in range(1, len(s)):\n",
    "        print(i)\n",
    "        if s[i] == s[i - 1]:\n",
    "            j += 1\n",
    "            print(j)\n",
    "        else:\n",
    "            outputstr += s[i - 1]\n",
    "            if j > 1:\n",
    "                outputstr += str(j)\n",
    "            j = 1\n",
    "\n",
    "    outputstr += s[-1]  \n",
    "\n",
    "    if j > 1:\n",
    "        outputstr += str(j)\n",
    "\n",
    "    return outputstr\n",
    "\n",
    "user_input = input(\"Enter a string: \")\n",
    "compressed_string = compress_string(user_input)\n",
    "print(compressed_string)  "
   ]
  },
  {
   "cell_type": "code",
   "execution_count": null,
   "id": "cfe9b199",
   "metadata": {},
   "outputs": [],
   "source": []
  }
 ],
 "metadata": {
  "kernelspec": {
   "display_name": "Python 3 (ipykernel)",
   "language": "python",
   "name": "python3"
  },
  "language_info": {
   "codemirror_mode": {
    "name": "ipython",
    "version": 3
   },
   "file_extension": ".py",
   "mimetype": "text/x-python",
   "name": "python",
   "nbconvert_exporter": "python",
   "pygments_lexer": "ipython3",
   "version": "3.9.12"
  }
 },
 "nbformat": 4,
 "nbformat_minor": 5
}
